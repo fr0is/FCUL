{
 "cells": [
  {
   "cell_type": "markdown",
   "metadata": {},
   "source": [
    "# Mini-tutorial de Python"
   ]
  },
  {
   "cell_type": "markdown",
   "metadata": {},
   "source": [
    "### Ambiente de desenvolvimento de Python\n",
    "\n",
    "Existem inúmeros ambientes de desenvolvimento que suportam Python: Nos laboratórios do DI têm dois à disposição:\n",
    "- **IDLE** - fornecido com o pacote standard oficial. Leve, com algumas limitações.\n",
    "- **Anaconda** - plataforma que inclui um IDE mais artilhado e muitas bibliotecas não standard do Python. Nesta plataforma pode escolhar a ferramenta **spyder** ou o **notebook** (que será usado nas aulas de laboratório).\n",
    "\n",
    "#### Jupyter Notebook\n",
    "\n",
    "O **[Jupyter Notebook](https://jupyter.org/)** é uma aplicação web open-source que permite criar e partilhar documentos que contêm código, equações, visualizações e texto. Os guiões de laboratório irão ser disponibilizados neste formato (e em .html), podendo os alunos seguirem a explicação e executar/experimentar o código fornecido.\n",
    "\n",
    "Para correr o Jupyter Notebook deve procurar no menu ```Anaconda Navigator``` e escolher a opção ```Jupyter Notebook``` (ver figura abaixo). Depois seleccionar a pasta onde se encontra o ficheiro pretendido com a extensão .ipynb ou criar um novo ficheiro.\n",
    "<img src=\"Orange3_Anaconda_Navigator.png\" style=\"width: 800px;\" />\n",
    "\n",
    "Alguns recursos úteis do Jupyter Notebook que poderá usar:\n",
    "* [Introdução ao Jupyter Notebook](https://realpython.com/jupyter-notebook-introduction/)\n",
    "* [Tutorial for beginners](https://www.dataquest.io/blog/jupyter-notebook-tutorial/)\n",
    "\n",
    "No Notebook existem dois conceitos importantes: *cells* (células) e *kernels*. Um \"kernel\" é um engenho computacional que executa o código contido num notebook; enquanto que uma \"célula\" é um espaço para o texto a ser exibido no notebook ou para código a ser executado pelo kernel do notebook. Existem dois tipos de células: *code cell* (que contêm código a ser executado pelo kernel), e *markdown cell* (que contêm texto formatado e mostra o seu conteúdo quando executado). \n",
    "\n",
    "Pode criar uma célula de código escolhendo no menu ```Insert -> Cell Below``` (se a quiset alterar para *markdown*, escolha a opção no menu dropdown por baixo do menu \"Widgets\"). Para executar as células, prima **Ctrl + Enter**."
   ]
  },
  {
   "cell_type": "markdown",
   "metadata": {},
   "source": [
    "## Operadores\n",
    "O interpretador de Python pode ser usado para avaliar expressões, como por exemplo, expressões aritméticas simples. Se escreveres essas expressões na prompt, elas serão avaliadas e o resultado será devolvido na linha seguinte."
   ]
  },
  {
   "cell_type": "code",
   "execution_count": null,
   "metadata": {},
   "outputs": [],
   "source": [
    "1 + 1"
   ]
  },
  {
   "cell_type": "code",
   "execution_count": null,
   "metadata": {},
   "outputs": [],
   "source": [
    "2 * 3"
   ]
  },
  {
   "cell_type": "markdown",
   "metadata": {},
   "source": [
    "Existem também em Python operadores booleanos que manipulam valores True e False."
   ]
  },
  {
   "cell_type": "code",
   "execution_count": null,
   "metadata": {},
   "outputs": [],
   "source": [
    "True"
   ]
  },
  {
   "cell_type": "code",
   "execution_count": null,
   "metadata": {},
   "outputs": [],
   "source": [
    "False"
   ]
  },
  {
   "cell_type": "code",
   "execution_count": null,
   "metadata": {},
   "outputs": [],
   "source": [
    "1 == 0"
   ]
  },
  {
   "cell_type": "code",
   "execution_count": null,
   "metadata": {},
   "outputs": [],
   "source": [
    "not (1==0)"
   ]
  },
  {
   "cell_type": "code",
   "execution_count": null,
   "metadata": {},
   "outputs": [],
   "source": [
    "(2==4-2) and (2==3)"
   ]
  },
  {
   "cell_type": "code",
   "execution_count": null,
   "metadata": {},
   "outputs": [],
   "source": [
    "(2==4-2) or (2==3)"
   ]
  },
  {
   "cell_type": "markdown",
   "metadata": {},
   "source": [
    "## Strings\n",
    "Tal como o Java, o Python tem um tipo String predefinido. Podemos usar ' ' ou \" \" para envolver as cadeias de caracteres."
   ]
  },
  {
   "cell_type": "code",
   "execution_count": null,
   "metadata": {},
   "outputs": [],
   "source": [
    "\"artificial\""
   ]
  },
  {
   "cell_type": "code",
   "execution_count": null,
   "metadata": {},
   "outputs": [],
   "source": [
    "'artificial'"
   ]
  },
  {
   "cell_type": "markdown",
   "metadata": {},
   "source": [
    "O operador quando tem string como operandos, executa uma concatenação."
   ]
  },
  {
   "cell_type": "code",
   "execution_count": null,
   "metadata": {},
   "outputs": [],
   "source": [
    "'artificial' + \"intelligence\""
   ]
  },
  {
   "cell_type": "code",
   "execution_count": null,
   "metadata": {},
   "outputs": [],
   "source": [
    "'artificial' + \" \" + \"intelligence\""
   ]
  },
  {
   "cell_type": "markdown",
   "metadata": {},
   "source": [
    "Existem muitos métodos pré-definidos para manipular strings."
   ]
  },
  {
   "cell_type": "code",
   "execution_count": null,
   "metadata": {},
   "outputs": [],
   "source": [
    "'artificial'.upper()"
   ]
  },
  {
   "cell_type": "code",
   "execution_count": null,
   "metadata": {},
   "outputs": [],
   "source": [
    "'HELP'.lower()"
   ]
  },
  {
   "cell_type": "code",
   "execution_count": null,
   "metadata": {},
   "outputs": [],
   "source": [
    "len('Help')"
   ]
  },
  {
   "cell_type": "markdown",
   "metadata": {},
   "source": [
    "Podemos guardar strings em variáveis, que não têm de ser declaradas antes de serem usadas"
   ]
  },
  {
   "cell_type": "code",
   "execution_count": null,
   "metadata": {},
   "outputs": [],
   "source": [
    "s = 'olá mundo'"
   ]
  },
  {
   "cell_type": "code",
   "execution_count": null,
   "metadata": {},
   "outputs": [],
   "source": [
    "s"
   ]
  },
  {
   "cell_type": "markdown",
   "metadata": {},
   "source": [
    "Podemos imprimir a variável no ecrã."
   ]
  },
  {
   "cell_type": "code",
   "execution_count": null,
   "metadata": {},
   "outputs": [],
   "source": [
    "print(s)"
   ]
  },
  {
   "cell_type": "code",
   "execution_count": null,
   "metadata": {},
   "outputs": [],
   "source": [
    "s.upper()"
   ]
  },
  {
   "cell_type": "code",
   "execution_count": null,
   "metadata": {},
   "outputs": [],
   "source": [
    "len(s)"
   ]
  },
  {
   "cell_type": "markdown",
   "metadata": {},
   "source": [
    "## Dir e Help"
   ]
  },
  {
   "cell_type": "markdown",
   "metadata": {},
   "source": [
    "A função ***dir()*** permite saber quais os métodos associados a um certo objecto, neste caso uma string."
   ]
  },
  {
   "cell_type": "code",
   "execution_count": null,
   "metadata": {},
   "outputs": [],
   "source": [
    "dir(s)"
   ]
  },
  {
   "cell_type": "markdown",
   "metadata": {},
   "source": [
    "help permite saber alguma coisa sobre um método específico"
   ]
  },
  {
   "cell_type": "code",
   "execution_count": null,
   "metadata": {},
   "outputs": [],
   "source": [
    "help(s.split)"
   ]
  },
  {
   "cell_type": "markdown",
   "metadata": {},
   "source": [
    "Vamos usá-lo"
   ]
  },
  {
   "cell_type": "code",
   "execution_count": null,
   "metadata": {},
   "outputs": [],
   "source": [
    "\"a-maria-e-o-manel\".split('-')"
   ]
  },
  {
   "cell_type": "markdown",
   "metadata": {},
   "source": [
    "**Exercício:** Tentem usar algumas das funções sobre strings listadas quando se fez dir (ignorem as que possuem '__')."
   ]
  },
  {
   "cell_type": "markdown",
   "metadata": {},
   "source": [
    "## Estruturas de dados pré-definidas"
   ]
  },
  {
   "cell_type": "markdown",
   "metadata": {},
   "source": [
    "O Python vem equipado com algumas estruturas de dados \"built-in\", semelhantes do pacote collections do Java."
   ]
  },
  {
   "cell_type": "markdown",
   "metadata": {},
   "source": [
    "### Listas\n",
    "As listas guardam sequências de elementos mutáveis. Por exemplo, eis uma lista de 4 frutas:"
   ]
  },
  {
   "cell_type": "code",
   "execution_count": null,
   "metadata": {},
   "outputs": [],
   "source": [
    "frutas = ['maçã','laranja','pêra','banana']"
   ]
  },
  {
   "cell_type": "markdown",
   "metadata": {},
   "source": [
    "Para acedermos ao primeiro elemento da lista, fazemos:"
   ]
  },
  {
   "cell_type": "code",
   "execution_count": null,
   "metadata": {},
   "outputs": [],
   "source": [
    "frutas[0]"
   ]
  },
  {
   "cell_type": "markdown",
   "metadata": {},
   "source": [
    "Podemos usar o operador '+' para concatenar listas"
   ]
  },
  {
   "cell_type": "code",
   "execution_count": null,
   "metadata": {},
   "outputs": [],
   "source": [
    "outrasFrutas = ['kivi','morangos']"
   ]
  },
  {
   "cell_type": "code",
   "execution_count": null,
   "metadata": {},
   "outputs": [],
   "source": [
    "frutas + outrasFrutas"
   ]
  },
  {
   "cell_type": "markdown",
   "metadata": {},
   "source": [
    "O Python permite a indexação negativa para aceder aos elementos pela ordem de trás para a frente. Por exemplo, com frutas[-1] acede-se ao último elemento."
   ]
  },
  {
   "cell_type": "code",
   "execution_count": null,
   "metadata": {},
   "outputs": [],
   "source": [
    "frutas[-1]"
   ]
  },
  {
   "cell_type": "code",
   "execution_count": null,
   "metadata": {},
   "outputs": [],
   "source": [
    "frutas[-2]"
   ]
  },
  {
   "cell_type": "markdown",
   "metadata": {},
   "source": [
    "Podemos obter o último elemento de uma lista depois de ser removido"
   ]
  },
  {
   "cell_type": "code",
   "execution_count": null,
   "metadata": {},
   "outputs": [],
   "source": [
    "frutas.pop()"
   ]
  },
  {
   "cell_type": "code",
   "execution_count": null,
   "metadata": {},
   "outputs": [],
   "source": [
    "frutas"
   ]
  },
  {
   "cell_type": "markdown",
   "metadata": {},
   "source": [
    "Podemos mudar o último elemento da lista para anánas fazendo "
   ]
  },
  {
   "cell_type": "code",
   "execution_count": null,
   "metadata": {},
   "outputs": [],
   "source": [
    "frutas[-1] = 'ananás'"
   ]
  },
  {
   "cell_type": "code",
   "execution_count": null,
   "metadata": {},
   "outputs": [],
   "source": [
    "frutas"
   ]
  },
  {
   "cell_type": "markdown",
   "metadata": {},
   "source": [
    "Podemos colocar no fim da lista de frutas, mais uma fruta, uvas"
   ]
  },
  {
   "cell_type": "code",
   "execution_count": null,
   "metadata": {},
   "outputs": [],
   "source": [
    "frutas.append('uvas')"
   ]
  },
  {
   "cell_type": "code",
   "execution_count": null,
   "metadata": {},
   "outputs": [],
   "source": [
    "frutas"
   ]
  },
  {
   "cell_type": "markdown",
   "metadata": {},
   "source": [
    "Podemos aceder a sublistas de uma lista através do operador de slice.Por exemplo, fruits[1:3] devolve a lista contendo os elementos da posição 1 à 2. Geralmente frutas[inicio:fim] devolverá a sublista com elementos desde a posição inicio até fim-1. Também poderemos fazer frutas[inicio:] que devolve uma sublista com os elementos que vão da posição inicio até ao fim da lista. Da mesma maneira, frutas[:fim] devolverá todos os elementos até à posição fim-1:"
   ]
  },
  {
   "cell_type": "code",
   "execution_count": null,
   "metadata": {},
   "outputs": [],
   "source": [
    "frutas[0:2]"
   ]
  },
  {
   "cell_type": "code",
   "execution_count": null,
   "metadata": {},
   "outputs": [],
   "source": [
    "frutas[:3]"
   ]
  },
  {
   "cell_type": "code",
   "execution_count": null,
   "metadata": {},
   "outputs": [],
   "source": [
    "frutas[2:]"
   ]
  },
  {
   "cell_type": "code",
   "execution_count": null,
   "metadata": {},
   "outputs": [],
   "source": [
    "len(frutas)"
   ]
  },
  {
   "cell_type": "markdown",
   "metadata": {},
   "source": [
    "Os elementos de uma lista podem ser de qualquer tipo"
   ]
  },
  {
   "cell_type": "code",
   "execution_count": null,
   "metadata": {},
   "outputs": [],
   "source": [
    "listaDeListas = [['a','b','c'],[1,2,3],['um','dois','três']] "
   ]
  },
  {
   "cell_type": "code",
   "execution_count": null,
   "metadata": {},
   "outputs": [],
   "source": [
    "listaDeListas[0].pop()"
   ]
  },
  {
   "cell_type": "code",
   "execution_count": null,
   "metadata": {},
   "outputs": [],
   "source": [
    "listaDeListas"
   ]
  },
  {
   "cell_type": "markdown",
   "metadata": {},
   "source": [
    "**Exercício (Listas):**\n",
    "Brinquem com as funções sobre listas. Podem encontrar os métodos usando o dir e help, mas ignorem os métodos com \"underscores\"."
   ]
  },
  {
   "cell_type": "code",
   "execution_count": null,
   "metadata": {},
   "outputs": [],
   "source": [
    "dir(list)"
   ]
  },
  {
   "cell_type": "code",
   "execution_count": null,
   "metadata": {},
   "outputs": [],
   "source": [
    "help(list.reverse)"
   ]
  },
  {
   "cell_type": "code",
   "execution_count": null,
   "metadata": {},
   "outputs": [],
   "source": [
    "lista= ['a','b','b']"
   ]
  },
  {
   "cell_type": "code",
   "execution_count": null,
   "metadata": {},
   "outputs": [],
   "source": [
    "lista.reverse()"
   ]
  },
  {
   "cell_type": "code",
   "execution_count": null,
   "metadata": {},
   "outputs": [],
   "source": [
    "lista"
   ]
  },
  {
   "cell_type": "markdown",
   "metadata": {},
   "source": [
    "### Tuplos\n",
    "Uma estrutura de dados semelhante a uma lista é o tuplo, que é tudo igual a uma lista mas que é imutável a partir do momento em que é criado, i.e., não pode mudar. Notem que os tuplos são envolvidos em parêntesis enquanto as listas são-no por parêntesis rectos."
   ]
  },
  {
   "cell_type": "code",
   "execution_count": null,
   "metadata": {},
   "outputs": [],
   "source": [
    "par = (3,5)"
   ]
  },
  {
   "cell_type": "code",
   "execution_count": null,
   "metadata": {},
   "outputs": [],
   "source": [
    "par[0]"
   ]
  },
  {
   "cell_type": "markdown",
   "metadata": {},
   "source": [
    "Na verdade, nem precisamos de parêntesis."
   ]
  },
  {
   "cell_type": "code",
   "execution_count": null,
   "metadata": {},
   "outputs": [],
   "source": [
    "outro_par = 5,5 "
   ]
  },
  {
   "cell_type": "code",
   "execution_count": null,
   "metadata": {},
   "outputs": [],
   "source": [
    "outro_par"
   ]
  },
  {
   "cell_type": "markdown",
   "metadata": {},
   "source": [
    "Podemos desempacotar um tuplo da seguinte maneira:"
   ]
  },
  {
   "cell_type": "code",
   "execution_count": null,
   "metadata": {},
   "outputs": [],
   "source": [
    "x,y = par"
   ]
  },
  {
   "cell_type": "code",
   "execution_count": null,
   "metadata": {},
   "outputs": [],
   "source": [
    "x"
   ]
  },
  {
   "cell_type": "code",
   "execution_count": null,
   "metadata": {},
   "outputs": [],
   "source": [
    "y"
   ]
  },
  {
   "cell_type": "markdown",
   "metadata": {},
   "source": [
    "Podemos testar a imutabilidade do seu conteúdo"
   ]
  },
  {
   "cell_type": "code",
   "execution_count": null,
   "metadata": {},
   "outputs": [],
   "source": [
    "par[1]=4"
   ]
  },
  {
   "cell_type": "markdown",
   "metadata": {},
   "source": [
    "### Conjuntos\n",
    "Um conjunto é outra estrutura de dados que é uma lista não ordenada sem elementos duplicados. Não se assume que a ordem com que são impressos no ecrã seja a mesma para todas as máquinas.\n",
    "Mostramos já como se cria um conjunto, criando uma lista e convertendo-a em conjunto:"
   ]
  },
  {
   "cell_type": "code",
   "execution_count": null,
   "metadata": {},
   "outputs": [],
   "source": [
    "formas = ['círculo','quadrado','triângulo','círculo']\n",
    "formas = set(formas)"
   ]
  },
  {
   "cell_type": "code",
   "execution_count": null,
   "metadata": {},
   "outputs": [],
   "source": [
    "formas"
   ]
  },
  {
   "cell_type": "markdown",
   "metadata": {},
   "source": [
    "Mas podemos criar um conjunto de um modo mais directo"
   ]
  },
  {
   "cell_type": "code",
   "execution_count": null,
   "metadata": {},
   "outputs": [],
   "source": [
    "outras_formas = {'quadrado', 'triângulo','círculo'}\n",
    "outras_formas"
   ]
  },
  {
   "cell_type": "markdown",
   "metadata": {},
   "source": [
    "Na criação os elementos repetidos desaparecem"
   ]
  },
  {
   "cell_type": "code",
   "execution_count": null,
   "metadata": {},
   "outputs": [],
   "source": [
    "outras_formas = {'quadrado', 'triângulo','quadrado','círculo'}\n",
    "outras_formas"
   ]
  },
  {
   "cell_type": "markdown",
   "metadata": {},
   "source": [
    "Vamos comparar conjuntos para verificar que não dependem da ordem com que foram criados os seus elementos."
   ]
  },
  {
   "cell_type": "code",
   "execution_count": null,
   "metadata": {},
   "outputs": [],
   "source": [
    "formas == outras_formas"
   ]
  },
  {
   "cell_type": "markdown",
   "metadata": {},
   "source": [
    "A seguir, iremos mostrar como adicionar elementos a um conjunto, como verificar se um elemento pertence a um conjunto e vamos também executar algumas operações comuns sobre conjuntos (diferença, intersecção, união):"
   ]
  },
  {
   "cell_type": "code",
   "execution_count": null,
   "metadata": {},
   "outputs": [],
   "source": [
    "formas = set()\n",
    "formas"
   ]
  },
  {
   "cell_type": "code",
   "execution_count": null,
   "metadata": {},
   "outputs": [],
   "source": [
    "formas.add('polígono')\n",
    "formas"
   ]
  },
  {
   "cell_type": "code",
   "execution_count": null,
   "metadata": {},
   "outputs": [],
   "source": [
    "'círculo' in formas"
   ]
  },
  {
   "cell_type": "code",
   "execution_count": null,
   "metadata": {},
   "outputs": [],
   "source": [
    "formas.add('círculo')\n",
    "'círculo' in formas"
   ]
  },
  {
   "cell_type": "code",
   "execution_count": null,
   "metadata": {},
   "outputs": [],
   "source": [
    "formas & outras_formas"
   ]
  },
  {
   "cell_type": "code",
   "execution_count": null,
   "metadata": {},
   "outputs": [],
   "source": [
    "formas | outras_formas"
   ]
  },
  {
   "cell_type": "code",
   "execution_count": null,
   "metadata": {},
   "outputs": [],
   "source": [
    "outras_formas - formas"
   ]
  },
  {
   "cell_type": "markdown",
   "metadata": {},
   "source": [
    "### Dicionários\n",
    "A última estrutura de dados que vamos apresentar é o dicionário, que corresponde a uma tabela, mapeia um tipo de objectos (a chave) noutro (o valor). A chave tem de ser de um tipo imutável (string, número ou tuplo). O valor pode ser de qualquer tipo.\n",
    "Um dicionário é uma tabela hash em que não existe uma ordem das chaves.  "
   ]
  },
  {
   "cell_type": "code",
   "execution_count": null,
   "metadata": {},
   "outputs": [],
   "source": [
    "estudantes = {19777: 'Pedro', 20200: 'Liza', 21999: 'Zanga'}"
   ]
  },
  {
   "cell_type": "code",
   "execution_count": null,
   "metadata": {},
   "outputs": [],
   "source": [
    "estudantes[19777]"
   ]
  },
  {
   "cell_type": "code",
   "execution_count": null,
   "metadata": {},
   "outputs": [],
   "source": [
    "del estudantes[20200]\n",
    "estudantes"
   ]
  },
  {
   "cell_type": "code",
   "execution_count": null,
   "metadata": {},
   "outputs": [],
   "source": [
    "del estudantes[1000]"
   ]
  },
  {
   "cell_type": "code",
   "execution_count": null,
   "metadata": {},
   "outputs": [],
   "source": [
    "estudantes[20202]='Chico'\n",
    "estudantes"
   ]
  },
  {
   "cell_type": "code",
   "execution_count": null,
   "metadata": {},
   "outputs": [],
   "source": [
    "estudantes.items()"
   ]
  },
  {
   "cell_type": "code",
   "execution_count": null,
   "metadata": {},
   "outputs": [],
   "source": [
    "estudantes.keys()"
   ]
  },
  {
   "cell_type": "code",
   "execution_count": null,
   "metadata": {},
   "outputs": [],
   "source": [
    "list(estudantes.keys())"
   ]
  },
  {
   "cell_type": "code",
   "execution_count": null,
   "metadata": {},
   "outputs": [],
   "source": [
    "estudantes.values()"
   ]
  },
  {
   "cell_type": "code",
   "execution_count": null,
   "metadata": {},
   "outputs": [],
   "source": [
    "list(estudantes.values())"
   ]
  },
  {
   "cell_type": "markdown",
   "metadata": {},
   "source": [
    "Podemos criar dicionários de dicionários"
   ]
  },
  {
   "cell_type": "code",
   "execution_count": null,
   "metadata": {},
   "outputs": [],
   "source": [
    "professores = {'iia': 'LuigiLuis','ec': 'Lou'}\n",
    "staff = {'professores': professores, 'estudantes':estudantes}\n",
    "staff"
   ]
  },
  {
   "cell_type": "code",
   "execution_count": null,
   "metadata": {},
   "outputs": [],
   "source": [
    "staff['professores']"
   ]
  },
  {
   "cell_type": "markdown",
   "metadata": {},
   "source": [
    "**Exercício**: Usem dir e help para se familiarizarem com as funções que se podem invocar sobre dicionários."
   ]
  },
  {
   "cell_type": "markdown",
   "metadata": {},
   "source": [
    "## Ciclo for e if than else\n",
    "Vamos fazer um pequeno programa que exemplifica o uso do ciclo for e da instrução condicional:"
   ]
  },
  {
   "cell_type": "code",
   "execution_count": null,
   "metadata": {},
   "outputs": [],
   "source": [
    "# Este é um comentário\n",
    "frutas = ['maçãs', 'laranjas', 'pèras', 'bananas']\n",
    "for fruta in frutas:\n",
    "    print(fruta + ' para venda')\n",
    "\n",
    "precosFruta = {'maçãs': 2.00, 'laranjas': 1.50, 'pêras': 1.75}\n",
    "for fruta, preco in precosFruta.items():\n",
    "    if preco < 2.00:\n",
    "        print('As %s custam %f o kg' % (fruta, preco))\n",
    "    else:\n",
    "        print(\"As \" + fruta + ' são demasiado caras!')"
   ]
  },
  {
   "cell_type": "markdown",
   "metadata": {},
   "source": [
    "Usem o range para gerarem uma sequência de inteiros,"
   ]
  },
  {
   "cell_type": "code",
   "execution_count": null,
   "metadata": {},
   "outputs": [],
   "source": [
    "range(10)"
   ]
  },
  {
   "cell_type": "code",
   "execution_count": null,
   "metadata": {},
   "outputs": [],
   "source": [
    "list(range(10))"
   ]
  },
  {
   "cell_type": "markdown",
   "metadata": {},
   "source": [
    "que é útil para os ciclos:"
   ]
  },
  {
   "cell_type": "code",
   "execution_count": null,
   "metadata": {},
   "outputs": [],
   "source": [
    "for index in range(3):\n",
    "    print(index)"
   ]
  },
  {
   "cell_type": "code",
   "execution_count": null,
   "metadata": {},
   "outputs": [],
   "source": [
    "ferramentas = ['enxada', 'ancinho', 'pá']\n",
    "for index in range(len(ferramentas)):\n",
    "    print(ferramentas[index])"
   ]
  },
  {
   "cell_type": "markdown",
   "metadata": {},
   "source": [
    "### Map e Filter\n",
    "Se gostarem de programação funcional, podem usar as funções **map** e **filter**."
   ]
  },
  {
   "cell_type": "markdown",
   "metadata": {},
   "source": [
    "Vamos aplicar a função quadrado (anónima, lambda) a uma lista de inteiros"
   ]
  },
  {
   "cell_type": "code",
   "execution_count": null,
   "metadata": {},
   "outputs": [],
   "source": [
    "list(map(lambda x: x * x, [1,2,3]))"
   ]
  },
  {
   "cell_type": "markdown",
   "metadata": {},
   "source": [
    "Vamos filtrar de uma lista todos os elementos menores do que 4"
   ]
  },
  {
   "cell_type": "code",
   "execution_count": null,
   "metadata": {},
   "outputs": [],
   "source": [
    "list(filter(lambda x: x > 3, [1,2,3,4,5,4,3,2,1]))"
   ]
  },
  {
   "cell_type": "markdown",
   "metadata": {},
   "source": [
    "## Listas por compreensão"
   ]
  },
  {
   "cell_type": "markdown",
   "metadata": {},
   "source": [
    "Se quisermos gerar a lista que resulta de adicionar um a cada elemento de uma lista de input fazemos:"
   ]
  },
  {
   "cell_type": "code",
   "execution_count": null,
   "metadata": {},
   "outputs": [],
   "source": [
    "nums = [1,2,3,4,5,6]\n",
    "plusOneNums = [x+1 for x in nums]\n",
    "plusOneNums"
   ]
  },
  {
   "cell_type": "markdown",
   "metadata": {},
   "source": [
    "Se quisermos apenas os números ímpares podemos fazer:"
   ]
  },
  {
   "cell_type": "code",
   "execution_count": null,
   "metadata": {},
   "outputs": [],
   "source": [
    "oddNums = [x for x in nums if x % 2 == 1]\n",
    "oddNums"
   ]
  },
  {
   "cell_type": "markdown",
   "metadata": {},
   "source": [
    "Se quisermos filtar os pares e somar 1 aos ímpares podemos fazer:"
   ]
  },
  {
   "cell_type": "code",
   "execution_count": null,
   "metadata": {},
   "outputs": [],
   "source": [
    "oddNumsPlusOne = [x+1 for x in nums if x % 2 ==1]\n",
    "oddNumsPlusOne"
   ]
  },
  {
   "cell_type": "markdown",
   "metadata": {},
   "source": [
    "## Cuidado com a identação!\n",
    "Ao contrário das restantes linguagens o Python usa a identação para interpretar o código."
   ]
  },
  {
   "cell_type": "code",
   "execution_count": null,
   "metadata": {},
   "outputs": [],
   "source": [
    "if 0 == 1:\n",
    "    print('Estamos num mundo de sofrimento matemático')\n",
    "print('Obrigado por jogar')"
   ]
  },
  {
   "cell_type": "markdown",
   "metadata": {},
   "source": [
    "Mas se fizermos assim,"
   ]
  },
  {
   "cell_type": "code",
   "execution_count": null,
   "metadata": {},
   "outputs": [],
   "source": [
    "if 0 == 1:\n",
    "    print('Estamos num mundo de sofrimento matemático')\n",
    "    print('Obrigado por jogar')"
   ]
  },
  {
   "cell_type": "markdown",
   "metadata": {},
   "source": [
    "não haverá qualquer output."
   ]
  },
  {
   "cell_type": "markdown",
   "metadata": {},
   "source": [
    "## Funções\n",
    "Podem definir as vossas próprias funções"
   ]
  },
  {
   "cell_type": "code",
   "execution_count": null,
   "metadata": {},
   "outputs": [],
   "source": [
    "precosFruta = {'maçãs':2.00, 'laranjas': 1.50, 'pêras': 1.75}\n",
    "\n",
    "def comprarFruta(fruta, numKgs):\n",
    "    if fruta not in precosFruta:\n",
    "        print(\"Lamento mas não temos %s\" % (fruta))\n",
    "    else:\n",
    "        custo = precosFruta[fruta] * numKgs\n",
    "        print(\"Serão %f euros, por favor\" % (custo))\n",
    "comprarFruta('maçãs',2.4)\n",
    "comprarFruta('côcos',2)"
   ]
  },
  {
   "cell_type": "markdown",
   "metadata": {},
   "source": [
    "## Definindo classes\n",
    "Vejam este exemplo de uma definição de classe para uma loja de fruta em que a classe tem dois atributos, o nome da loja e os preços por kg de cada tipo de fruta, e fornece métodos para saber o preço por kg dado um tipo de fruta e o preço de uma lista de compras."
   ]
  },
  {
   "cell_type": "code",
   "execution_count": null,
   "metadata": {},
   "outputs": [],
   "source": [
    "class LojaFrutas:\n",
    "\n",
    "    def __init__(self, nome, precosFruta):\n",
    "        \"\"\"\n",
    "            nome: Nome da loja de fruta\n",
    "\n",
    "            precosFruta: Dicionário com a fruta como chave e os preços como valor. Eis um exemplo:\n",
    "            {'maçãs':2.00, 'laranjas': 1.50, 'pêras': 1.75}\n",
    "        \"\"\"\n",
    "        self.precosFruta = precosFruta\n",
    "        self.nome = nome\n",
    "        print('Bem vindo à loja de fruta %s' % (nome))\n",
    "\n",
    "    def getCustoPorKg(self, fruta):\n",
    "        \"\"\"\n",
    "            fruta: a string que designa a fruta\n",
    "        Devolve o custo da fruta, assumindo que a fruta está no nventário, senão devolve None\n",
    "        \"\"\"\n",
    "        if fruta not in self.precosFruta:\n",
    "            return None\n",
    "        return self.precosFruta[fruta]\n",
    "\n",
    "    def getPrecoCompras(self,listaCompras):\n",
    "        \"\"\"\n",
    "            listaCompras: Lista de tuplos do tipo (fruta, numKgs) \n",
    "\n",
    "        Devolve o custo da lista de compras, apenas incluindo os pedidos de fruta que exista na loja.\n",
    "        \"\"\"\n",
    "        custoTotal = 0.0\n",
    "        for fruta, numKgs in listaCompras:\n",
    "            custoPorKg = self.getCustoPorKg(fruta)\n",
    "            if custoPorKg != None:\n",
    "                custoTotal += numKgs * custoPorKg\n",
    "        return custoTotal\n",
    "\n",
    "    def getNome(self):\n",
    "        return self.nome"
   ]
  },
  {
   "cell_type": "markdown",
   "metadata": {},
   "source": [
    "Vamos criar uma instância da classe, um objecto:"
   ]
  },
  {
   "cell_type": "code",
   "execution_count": null,
   "metadata": {},
   "outputs": [],
   "source": [
    "nomeLoja = 'Pomar de Zizu'\n",
    "precosFruta = {'maçãs': 1.00, 'laranjas': 1.50, 'pêras': 1.75}\n",
    "lojaZizu = LojaFrutas(nomeLoja, precosFruta)"
   ]
  },
  {
   "cell_type": "markdown",
   "metadata": {},
   "source": [
    "A linha lojaZizu = lojaFrutas(nomeLoja, precosFruta) constrói uma instância da classe LojaFruta, chamando a função __init__ dessa classe. Notem que passamos apenas 2 argumentos no construtor, enquanto __init__ tem 3 argumentos: (self, nome, precosFruta). \n",
    "A razão para isto é que todos os métodos de uma classe têm de ter self como primeiro argumento. O valor do argumento self é atribuído automaticamente ao próprio objecto; ao chamar um método, fornece-se apenas os argumentos restantes. A variável self contém toda a informação (nome e precosFruta) para a instância atual (semelhante em Java). As instruções de print usam o operador de substituição (descrito na documentação de Python)."
   ]
  },
  {
   "cell_type": "markdown",
   "metadata": {},
   "source": [
    "   Se quisermos aceder ao preço por kg das pêras, fazemos"
   ]
  },
  {
   "cell_type": "code",
   "execution_count": null,
   "metadata": {},
   "outputs": [],
   "source": [
    "precoPera=lojaZizu.getCustoPorKg('pêras')\n",
    "print('As pêras custam %.2f euros no %s.' % (precoPera, lojaZizu.nome))"
   ]
  },
  {
   "cell_type": "markdown",
   "metadata": {},
   "source": [
    "Se quisermos saber o valor dos abacates receberemos None"
   ]
  },
  {
   "cell_type": "code",
   "execution_count": null,
   "metadata": {},
   "outputs": [],
   "source": [
    "print(lojaZizu.getCustoPorKg('abacates'))"
   ]
  },
  {
   "cell_type": "markdown",
   "metadata": {},
   "source": [
    "Vamos criar mais um objecto da mesma classe, a loja Chère em que os preços são sempre o dobro dos da loja do Zizu"
   ]
  },
  {
   "cell_type": "code",
   "execution_count": null,
   "metadata": {},
   "outputs": [],
   "source": [
    "lojaZizu.precosFruta.keys()"
   ]
  },
  {
   "cell_type": "code",
   "execution_count": null,
   "metadata": {},
   "outputs": [],
   "source": [
    "precosChere = {}\n",
    "for fruta in lojaZizu.precosFruta.keys():\n",
    "    precosChere[fruta] = lojaZizu.precosFruta[fruta] * 2\n",
    "lojaChere = LojaFrutas('Chère', precosChere)\n",
    "print('Preços da Chère:',precosChere)"
   ]
  },
  {
   "cell_type": "markdown",
   "metadata": {},
   "source": [
    "### Variáveis estáticas vs variáveis dinâmicas"
   ]
  },
  {
   "cell_type": "markdown",
   "metadata": {},
   "source": [
    "O exemplo seguinte ilustra como usar as variáveis estáticas e as de instância em Python\n",
    "\n",
    "Vamos criar a classe Pessoa que tem uma variável estática, **populacao**, partilhada por todas as instâncias da classe e uma de instância, **idade**. Cada vez que criamos uma nova pessoa a população é incrementada."
   ]
  },
  {
   "cell_type": "code",
   "execution_count": null,
   "metadata": {},
   "outputs": [],
   "source": [
    "class Pessoa:\n",
    "    populacao = 0\n",
    "    def __init__(self, minhaIdade):\n",
    "        self.idade = minhaIdade\n",
    "        Pessoa.populacao += 1\n",
    "    def get_populacao(self):\n",
    "        return Pessoa.populacao\n",
    "    def get_idade(self):\n",
    "        return self.idade"
   ]
  },
  {
   "cell_type": "code",
   "execution_count": null,
   "metadata": {},
   "outputs": [],
   "source": [
    "p1=Pessoa(12)\n",
    "print('População = ',p1.populacao)"
   ]
  },
  {
   "cell_type": "code",
   "execution_count": null,
   "metadata": {},
   "outputs": [],
   "source": [
    "p2 = Pessoa(62)\n",
    "print('População = ',p2.populacao)\n",
    "print('População = ',p1.populacao)"
   ]
  },
  {
   "cell_type": "markdown",
   "metadata": {},
   "source": [
    "Como puderam ver, a variável **populacao** é partilhada por todos os objectos da classe, enquanto a variável **idade** é privada."
   ]
  },
  {
   "cell_type": "code",
   "execution_count": null,
   "metadata": {},
   "outputs": [],
   "source": [
    "p1.get_idade()"
   ]
  },
  {
   "cell_type": "code",
   "execution_count": null,
   "metadata": {},
   "outputs": [],
   "source": [
    "p2.get_idade()"
   ]
  },
  {
   "cell_type": "markdown",
   "metadata": {},
   "source": [
    "Se quisermos imprimir um dos objectos obteremos:"
   ]
  },
  {
   "cell_type": "code",
   "execution_count": null,
   "metadata": {},
   "outputs": [],
   "source": [
    "print(p1)"
   ]
  },
  {
   "cell_type": "markdown",
   "metadata": {},
   "source": [
    "Se quisermos imprimir apenas a informação relevante de cada objecto, teremos de redefinir o método __str__ e voltar a criar as instâncias."
   ]
  },
  {
   "cell_type": "code",
   "execution_count": null,
   "metadata": {},
   "outputs": [],
   "source": [
    "class Pessoa:\n",
    "    populacao = 0\n",
    "    def __init__(self, minhaIdade):\n",
    "        self.idade = minhaIdade\n",
    "        Pessoa.populacao += 1\n",
    "    def get_populacao(self):\n",
    "        return Pessoa.populacao\n",
    "    def get_idade(self):\n",
    "        return self.idade\n",
    "    def __str__(self):\n",
    "        return str(self.idade)\n",
    "p1=Pessoa(12)\n",
    "print('População = ',p1.populacao)\n",
    "p2 = Pessoa(62)\n",
    "print('População = ',p2.populacao)"
   ]
  },
  {
   "cell_type": "code",
   "execution_count": null,
   "metadata": {},
   "outputs": [],
   "source": [
    "print(p1)"
   ]
  },
  {
   "cell_type": "markdown",
   "metadata": {},
   "source": [
    "### Conjunto de objectos"
   ]
  },
  {
   "cell_type": "markdown",
   "metadata": {},
   "source": [
    "Vamos criar um conjunto de pessoas, e guardaremos o conjunto de idades. Queremos apenas um objecto pessoa para cada idade.\n",
    "Comecemos pelo conjunto das 2 pessoas que já criámos."
   ]
  },
  {
   "cell_type": "code",
   "execution_count": null,
   "metadata": {},
   "outputs": [],
   "source": [
    "pessoas = {p1,p2}\n",
    "print(pessoas)\n",
    "print(p1)"
   ]
  },
  {
   "cell_type": "code",
   "execution_count": null,
   "metadata": {},
   "outputs": [],
   "source": [
    "p3 = Pessoa(12)\n",
    "print(p3)"
   ]
  },
  {
   "cell_type": "code",
   "execution_count": null,
   "metadata": {},
   "outputs": [],
   "source": [
    "p1.populacao"
   ]
  },
  {
   "cell_type": "markdown",
   "metadata": {},
   "source": [
    "Como p3 é diferente de p1, embora o conteúdo seja igual, é possível adicioná-lo ao conjunto."
   ]
  },
  {
   "cell_type": "code",
   "execution_count": null,
   "metadata": {},
   "outputs": [],
   "source": [
    "pessoas.add(p3)\n",
    "pessoas"
   ]
  },
  {
   "cell_type": "markdown",
   "metadata": {},
   "source": [
    "Por defeito, dois objectos só são considerados iguais se forem o mesmo objecto, o que quer dizer que teremos que redefinir o conceito de ==.\n",
    "No entanto, para os conjuntos é preciso ter elementos que são hashable, o que é o caso das strings, números e objectos. "
   ]
  },
  {
   "cell_type": "code",
   "execution_count": null,
   "metadata": {},
   "outputs": [],
   "source": [
    "print(hash(4))\n",
    "print(hash(\"morangos\"))\n",
    "print(hash((1,2,3)))\n",
    "print(hash(p1.idade))\n",
    "print(hash(p1))"
   ]
  },
  {
   "cell_type": "markdown",
   "metadata": {},
   "source": [
    "Mas cada objecto tem um hash() diferente dos outros mesmo que os dados dos objectos sejam os mesmos, caso de p1 e de p3."
   ]
  },
  {
   "cell_type": "code",
   "execution_count": null,
   "metadata": {},
   "outputs": [],
   "source": [
    "print(hash(p3))"
   ]
  },
  {
   "cell_type": "markdown",
   "metadata": {},
   "source": [
    "Assim, teremos que sobrepor os métodos __eq__ e __hash()__.\n",
    "Dois objectos Pessoa serão iguais se tiverem o mesmo valores nos atributos respectivos idade, e a função de hash do objecto passa a ser o resultado da invocação da função standard hash tendo como input o valor do atributo idade. Assim, dois objectos distintos mas com o mesmo conteúdo serão iguais e terão o mesmo hash()."
   ]
  },
  {
   "cell_type": "code",
   "execution_count": null,
   "metadata": {},
   "outputs": [],
   "source": [
    "class Pessoa:\n",
    "    populacao = 0\n",
    "    def __init__(self, minhaIdade):\n",
    "        self.idade = minhaIdade\n",
    "        Pessoa.populacao += 1\n",
    "    def get_populacao(self):\n",
    "        return Pessoa.populacao\n",
    "    def get_idade(self):\n",
    "        return self.idade\n",
    "    def __str__(self):\n",
    "        return str(self.idade)\n",
    "    def __eq__(self,other):\n",
    "        return self.idade == other.idade\n",
    "    def __hash__(self):\n",
    "        return hash(self.idade)\n",
    "\n",
    "    \n",
    "p1=Pessoa(12)\n",
    "print('População = ',p1.populacao)\n",
    "p2 = Pessoa(62)\n",
    "print('População = ',p2.populacao)\n",
    "p3 = Pessoa(12)\n",
    "print('População = ',p3.populacao)\n",
    "pessoas = {p1,p2,p3}\n",
    "print(pessoas)\n",
    "[str(pessoa) for pessoa in pessoas] "
   ]
  },
  {
   "cell_type": "markdown",
   "metadata": {},
   "source": [
    "## Referências\n",
    "Informação sobre o python: www.python.org\n",
    "Livro de referência: Learning Python "
   ]
  }
 ],
 "metadata": {
  "kernelspec": {
   "display_name": "Python 3",
   "language": "python",
   "name": "python3"
  },
  "language_info": {
   "codemirror_mode": {
    "name": "ipython",
    "version": 3
   },
   "file_extension": ".py",
   "mimetype": "text/x-python",
   "name": "python",
   "nbconvert_exporter": "python",
   "pygments_lexer": "ipython3",
   "version": "3.7.7"
  }
 },
 "nbformat": 4,
 "nbformat_minor": 2
}
